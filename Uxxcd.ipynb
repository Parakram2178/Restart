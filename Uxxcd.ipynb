{
 "cells": [
  {
   "cell_type": "code",
   "execution_count": 1,
   "id": "47b20b1e-6077-4fdb-87ac-fa5cd4dd9dd2",
   "metadata": {},
   "outputs": [],
   "source": [
    "l=[1,2,3,4,5,6,7,8]"
   ]
  },
  {
   "cell_type": "code",
   "execution_count": 2,
   "id": "05ceee87-3880-419e-9a4a-02da77042493",
   "metadata": {},
   "outputs": [
    {
     "name": "stdout",
     "output_type": "stream",
     "text": [
      "2\n",
      "3\n",
      "4\n",
      "5\n",
      "6\n",
      "7\n",
      "8\n",
      "9\n"
     ]
    }
   ],
   "source": [
    "l1=[]\n",
    "for i in l :\n",
    "    print(i+1)\n",
    "    l1.append(i+1)"
   ]
  },
  {
   "cell_type": "code",
   "execution_count": 3,
   "id": "081f4c04-d92a-4b81-a18d-412e995aaeca",
   "metadata": {},
   "outputs": [
    {
     "data": {
      "text/plain": [
       "[2, 3, 4, 5, 6, 7, 8, 9]"
      ]
     },
     "execution_count": 3,
     "metadata": {},
     "output_type": "execute_result"
    }
   ],
   "source": [
    "l1"
   ]
  },
  {
   "cell_type": "code",
   "execution_count": 5,
   "id": "ad27ed8a-80eb-4588-8e47-10c48b0e7a75",
   "metadata": {},
   "outputs": [
    {
     "name": "stdout",
     "output_type": "stream",
     "text": [
      "i\n"
     ]
    }
   ],
   "source": [
    "pre = 2000\n",
    "if pre > 1000 :\n",
    "          print(\"i\")\n",
    "                          \n",
    "else :\n",
    "          print(\"not\")\n",
    "\n",
    "    "
   ]
  },
  {
   "cell_type": "code",
   "execution_count": 9,
   "id": "f73c041b-bf18-44e5-b19d-09f42e085334",
   "metadata": {},
   "outputs": [
    {
     "name": "stdout",
     "output_type": "stream",
     "text": [
      "hfgfu\n",
      "gysegu\n",
      "gguhdhuahd\n",
      "sgdguahdah\n"
     ]
    }
   ],
   "source": [
    "l4=[]\n",
    "l3 =[ 'hfgfu','gysegu','gguhdhuahd','sgdguahdah']\n",
    "for i in l3 :\n",
    "    print(i)\n",
    "    l4.append(i.upper())"
   ]
  },
  {
   "cell_type": "code",
   "execution_count": 10,
   "id": "178691a2-be83-4ec0-846b-6cbea2acfcf1",
   "metadata": {},
   "outputs": [
    {
     "data": {
      "text/plain": [
       "['HFGFU', 'GYSEGU', 'GGUHDHUAHD', 'SGDGUAHDAH']"
      ]
     },
     "execution_count": 10,
     "metadata": {},
     "output_type": "execute_result"
    }
   ],
   "source": [
    "l4"
   ]
  },
  {
   "cell_type": "code",
   "execution_count": 11,
   "id": "e2fb95f1-49a6-4dc5-9413-c929f019bb64",
   "metadata": {},
   "outputs": [],
   "source": [
    "l7=[]\n",
    "l6=[]\n",
    "l5=[1,2,3,4,5.676,'ghgaschh','bxajjh','JGXJAJAG']\n",
    "for i in l5:\n",
    "    if type(i)==int or type(i) == float:\n",
    "        l7.append(i)\n",
    "    if type(i)== str:\n",
    "        l6.append(i)\n",
    "        \n",
    "        "
   ]
  },
  {
   "cell_type": "code",
   "execution_count": 12,
   "id": "e53681ce-dd96-440c-94ca-686c610cfc5a",
   "metadata": {},
   "outputs": [
    {
     "data": {
      "text/plain": [
       "[1, 2, 3, 4, 5.676]"
      ]
     },
     "execution_count": 12,
     "metadata": {},
     "output_type": "execute_result"
    }
   ],
   "source": [
    "l7"
   ]
  },
  {
   "cell_type": "code",
   "execution_count": 13,
   "id": "1c0a5e45-c7c6-42b9-8eb9-54bf565f2fe0",
   "metadata": {},
   "outputs": [
    {
     "data": {
      "text/plain": [
       "['ghgaschh', 'bxajjh', 'JGXJAJAG']"
      ]
     },
     "execution_count": 13,
     "metadata": {},
     "output_type": "execute_result"
    }
   ],
   "source": [
    "l6"
   ]
  },
  {
   "cell_type": "code",
   "execution_count": null,
   "id": "8a8959ba-941e-4831-8fa4-8a9d5fd3a322",
   "metadata": {},
   "outputs": [],
   "source": []
  }
 ],
 "metadata": {
  "kernelspec": {
   "display_name": "Python 3 (ipykernel)",
   "language": "python",
   "name": "python3"
  },
  "language_info": {
   "codemirror_mode": {
    "name": "ipython",
    "version": 3
   },
   "file_extension": ".py",
   "mimetype": "text/x-python",
   "name": "python",
   "nbconvert_exporter": "python",
   "pygments_lexer": "ipython3",
   "version": "3.10.8"
  },
  "toc-autonumbering": true
 },
 "nbformat": 4,
 "nbformat_minor": 5
}
